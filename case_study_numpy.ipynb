{
  "nbformat": 4,
  "nbformat_minor": 0,
  "metadata": {
    "colab": {
      "provenance": [],
      "authorship_tag": "ABX9TyNEGZYqKFkXV+VOHBAtkeTf",
      "include_colab_link": true
    },
    "kernelspec": {
      "name": "python3",
      "display_name": "Python 3"
    },
    "language_info": {
      "name": "python"
    }
  },
  "cells": [
    {
      "cell_type": "markdown",
      "metadata": {
        "id": "view-in-github",
        "colab_type": "text"
      },
      "source": [
        "<a href=\"https://colab.research.google.com/github/devikaajay/DSA-Case-study-on-numpy-pandas/blob/main/case_study_numpy.ipynb\" target=\"_parent\"><img src=\"https://colab.research.google.com/assets/colab-badge.svg\" alt=\"Open In Colab\"/></a>"
      ]
    },
    {
      "cell_type": "markdown",
      "source": [
        "1. Basic Array Operations\n",
        "\n",
        "Convert the mpg column into a NumPy array and calculate:\n",
        "\n",
        "○ The mean, median, and standard deviation of mpg.\n",
        "○ The number of cars with mpg greater than 25."
      ],
      "metadata": {
        "id": "A_JF6Xv1yNap"
      }
    },
    {
      "cell_type": "code",
      "execution_count": 10,
      "metadata": {
        "id": "gPt4mNJYxMT0",
        "colab": {
          "base_uri": "https://localhost:8080/"
        },
        "outputId": "12c71df7-1483-418a-ec8b-fc51558f5e08"
      },
      "outputs": [
        {
          "output_type": "stream",
          "name": "stdout",
          "text": [
            "Mean MPG: 23.514572864321607\n",
            "Median MPG: 23.0\n",
            "Standard Deviation MPG: 7.806159061274433\n",
            "Number of cars with MPG greater than 25: 158\n"
          ]
        }
      ],
      "source": [
        "import numpy as np\n",
        "import pandas as pd\n",
        "df = pd.read_csv('auto-mpg.csv')\n",
        "mpg_array = df['mpg'].to_numpy() #Convert the 'mpg' column to a NumPy array\n",
        "mean_mpg = np.mean(mpg_array)\n",
        "median_mpg = np.median(mpg_array)\n",
        "std_mpg = np.std(mpg_array)\n",
        "cars_greater_than_25 = np.sum(mpg_array > 25)\n",
        "print(\"Mean MPG:\", mean_mpg)\n",
        "print(\"Median MPG:\", median_mpg)\n",
        "print(\"Standard Deviation MPG:\", std_mpg)\n",
        "print(\"Number of cars with MPG greater than 25:\", cars_greater_than_25)"
      ]
    },
    {
      "cell_type": "markdown",
      "source": [
        "2. Filtering\n",
        "\n",
        "Using NumPy, filter all cars with more than 6 cylinders.\n",
        "Return the corresponding car_name as a list."
      ],
      "metadata": {
        "id": "G0waYvAzzXca"
      }
    },
    {
      "cell_type": "code",
      "source": [
        "filtered_cars = df[df['cylinders'] > 6]\n",
        "car_name_column = next((col for col in filtered_cars.columns if 'car' in col and 'name' in col), None)\n",
        "\n",
        "if car_name_column:\n",
        "    car_names_list = filtered_cars[car_name_column].tolist()\n",
        "    print(f\"Using column '{car_name_column}' for car names.\")\n",
        "else:\n",
        "    raise KeyError(\"Could not find a column containing 'car' and 'name' for car names.\")\n",
        "print(\"Cars with more than 6 cylinders:\")\n",
        "print(car_names_list)"
      ],
      "metadata": {
        "colab": {
          "base_uri": "https://localhost:8080/"
        },
        "id": "vVHlEqPrzggI",
        "outputId": "e08add33-a50d-4d5d-8436-06da7c8ccd0d"
      },
      "execution_count": 6,
      "outputs": [
        {
          "output_type": "stream",
          "name": "stdout",
          "text": [
            "Using column 'car name' for car names.\n",
            "Cars with more than 6 cylinders:\n",
            "['chevrolet chevelle malibu', 'buick skylark 320', 'plymouth satellite', 'amc rebel sst', 'ford torino', 'ford galaxie 500', 'chevrolet impala', 'plymouth fury iii', 'pontiac catalina', 'amc ambassador dpl', 'dodge challenger se', \"plymouth 'cuda 340\", 'chevrolet monte carlo', 'buick estate wagon (sw)', 'ford f250', 'chevy c20', 'dodge d200', 'hi 1200d', 'chevrolet impala', 'pontiac catalina brougham', 'ford galaxie 500', 'plymouth fury iii', 'dodge monaco (sw)', 'ford country squire (sw)', 'pontiac safari (sw)', 'chevrolet impala', 'pontiac catalina', 'plymouth fury iii', 'ford galaxie 500', 'amc ambassador sst', 'mercury marquis', 'buick lesabre custom', 'oldsmobile delta 88 royale', 'chrysler newport royal', 'amc matador (sw)', 'chevrolet chevelle concours (sw)', 'ford gran torino (sw)', 'plymouth satellite custom (sw)', 'buick century 350', 'amc matador', 'chevrolet malibu', 'ford gran torino', 'dodge coronet custom', 'mercury marquis brougham', 'chevrolet caprice classic', 'ford ltd', 'plymouth fury gran sedan', 'chrysler new yorker brougham', 'buick electra 225 custom', 'amc ambassador brougham', 'chevrolet impala', 'ford country', 'plymouth custom suburb', 'oldsmobile vista cruiser', 'chevrolet monte carlo s', 'pontiac grand prix', 'dodge dart custom', 'oldsmobile omega', 'ford gran torino', 'buick century luxus (sw)', 'dodge coronet custom (sw)', 'ford gran torino (sw)', 'amc matador (sw)', 'pontiac catalina', 'chevrolet bel air', 'plymouth grand fury', 'ford ltd', 'chevrolet monza 2+2', 'ford mustang ii', 'chevrolet chevelle malibu classic', 'dodge coronet brougham', 'amc matador', 'ford gran torino', 'plymouth volare premier v8', 'cadillac seville', 'chevy c10', 'ford f108', 'dodge d100', 'chevrolet caprice classic', 'oldsmobile cutlass supreme', 'dodge monaco brougham', 'mercury cougar brougham', 'pontiac grand prix lj', 'chevrolet monte carlo landau', 'chrysler cordoba', 'ford thunderbird', 'oldsmobile cutlass salon brougham', 'dodge diplomat', 'mercury monarch ghia', 'chevrolet monte carlo landau', 'ford futura', 'dodge magnum xe', 'chevrolet caprice classic', 'ford ltd landau', 'mercury grand marquis', 'dodge st. regis', 'buick estate wagon (sw)', 'ford country squire (sw)', 'chevrolet malibu classic (sw)', 'chrysler lebaron town @ country (sw)', 'cadillac eldorado', 'oldsmobile cutlass salon brougham', 'oldsmobile cutlass ls']\n"
          ]
        }
      ]
    },
    {
      "cell_type": "markdown",
      "source": [
        "3. Statistical Analysis\n",
        "\n",
        "Compute the 25th, 50th, and 75th percentiles of the weight column using NumPy"
      ],
      "metadata": {
        "id": "uTTfIFaf0kHY"
      }
    },
    {
      "cell_type": "code",
      "source": [
        "weight_array = df['weight'].to_numpy()\n",
        "\n",
        "percentile_25 = np.percentile(weight_array, 25)\n",
        "percentile_50 = np.percentile(weight_array, 50)\n",
        "percentile_75 = np.percentile(weight_array, 75)\n",
        "\n",
        "print(f\"25th Percentile (Q1): {percentile_25}\")\n",
        "print(f\"50th Percentile (Median/Q2): {percentile_50}\")\n",
        "print(f\"75th Percentile (Q3): {percentile_75}\")"
      ],
      "metadata": {
        "colab": {
          "base_uri": "https://localhost:8080/"
        },
        "id": "3IWKYutg0ryT",
        "outputId": "15d1adf6-1292-49d8-f92b-5bb53b6623a8"
      },
      "execution_count": 11,
      "outputs": [
        {
          "output_type": "stream",
          "name": "stdout",
          "text": [
            "25th Percentile (Q1): 2223.75\n",
            "50th Percentile (Median/Q2): 2803.5\n",
            "75th Percentile (Q3): 3608.0\n"
          ]
        }
      ]
    },
    {
      "cell_type": "markdown",
      "source": [
        "4. Array Manipulation\n",
        "\n",
        "Convert the acceleration column into a NumPy array and normalize its values\n",
        "(scale between 0 and 1)."
      ],
      "metadata": {
        "id": "BVwb9VA41c3k"
      }
    },
    {
      "cell_type": "code",
      "source": [
        "acceleration_array = df['acceleration'].to_numpy()\n",
        "\n",
        "# Normalize the acceleration values to the range [0, 1].\n",
        "min_acceleration = np.min(acceleration_array)\n",
        "max_acceleration = np.max(acceleration_array)\n",
        "\n",
        "normalized_acceleration = (acceleration_array - min_acceleration) / (max_acceleration - min_acceleration)\n",
        "\n",
        "print(\"Original Acceleration Array:\")\n",
        "print(acceleration_array)\n",
        "print(\"\\nNormalized Acceleration Array:\")\n",
        "print(normalized_acceleration)"
      ],
      "metadata": {
        "colab": {
          "base_uri": "https://localhost:8080/"
        },
        "id": "t1K8vk0w1i5-",
        "outputId": "2b66cd23-b168-4430-af21-5b601bdde3b8"
      },
      "execution_count": 12,
      "outputs": [
        {
          "output_type": "stream",
          "name": "stdout",
          "text": [
            "Original Acceleration Array:\n",
            "[12.  11.5 11.  12.  10.5 10.   9.   8.5 10.   8.5 10.   8.   9.5 10.\n",
            " 15.  15.5 15.5 16.  14.5 20.5 17.5 14.5 17.5 12.5 15.  14.  15.  13.5\n",
            " 18.5 14.5 15.5 14.  19.  13.  15.5 15.5 15.5 15.5 12.  11.5 13.5 13.\n",
            " 11.5 12.  12.  13.5 19.  15.  14.5 14.  14.  19.5 14.5 19.  18.  19.\n",
            " 20.5 15.5 17.  23.5 19.5 16.5 12.  12.  13.5 13.  11.5 11.  13.5 13.5\n",
            " 12.5 13.5 12.5 14.  16.  14.  14.5 18.  19.5 18.  16.  17.  14.5 15.\n",
            " 16.5 13.  11.5 13.  14.5 12.5 11.5 12.  13.  14.5 11.  11.  11.  16.5\n",
            " 18.  16.  16.5 16.  21.  14.  12.5 13.  12.5 15.  19.  19.5 16.5 13.5\n",
            " 18.5 14.  15.5 13.   9.5 19.5 15.5 14.  15.5 11.  14.  13.5 11.  16.5\n",
            " 17.  16.  17.  19.  16.5 21.  17.  17.  18.  16.5 14.  14.5 13.5 16.\n",
            " 15.5 16.5 15.5 14.5 16.5 19.  14.5 15.5 14.  15.  15.5 16.  16.  16.\n",
            " 21.  19.5 11.5 14.  14.5 13.5 21.  18.5 19.  19.  15.  13.5 12.  16.\n",
            " 17.  16.  18.5 13.5 16.5 17.  14.5 14.  17.  15.  17.  14.5 13.5 17.5\n",
            " 15.5 16.9 14.9 17.7 15.3 13.  13.  13.9 12.8 15.4 14.5 17.6 17.6 22.2\n",
            " 22.1 14.2 17.4 17.7 21.  16.2 17.8 12.2 17.  16.4 13.6 15.7 13.2 21.9\n",
            " 15.5 16.7 12.1 12.  15.  14.  18.5 14.8 18.6 15.5 16.8 12.5 19.  13.7\n",
            " 14.9 16.4 16.9 17.7 19.  11.1 11.4 12.2 14.5 14.5 16.  18.2 15.8 17.\n",
            " 15.9 16.4 14.1 14.5 12.8 13.5 21.5 14.4 19.4 18.6 16.4 15.5 13.2 12.8\n",
            " 19.2 18.2 15.8 15.4 17.2 17.2 15.8 16.7 18.7 15.1 13.2 13.4 11.2 13.7\n",
            " 16.5 14.2 14.7 14.5 14.8 16.7 17.6 14.9 15.9 13.6 15.7 15.8 14.9 16.6\n",
            " 15.4 18.2 17.3 18.2 16.6 15.4 13.4 13.2 15.2 14.9 14.3 15.  13.  14.\n",
            " 15.2 14.4 15.  20.1 17.4 24.8 22.2 13.2 14.9 19.2 14.7 16.  11.3 12.9\n",
            " 13.2 14.7 18.8 15.5 16.4 16.5 18.1 20.1 18.7 15.8 15.5 17.5 15.  15.2\n",
            " 17.9 14.4 19.2 21.7 23.7 19.9 21.8 13.8 17.3 18.  15.3 11.4 12.5 15.1\n",
            " 14.3 17.  15.7 16.4 14.4 12.6 12.9 16.9 16.4 16.1 17.8 19.4 17.3 16.\n",
            " 14.9 16.2 20.7 14.2 15.8 14.4 16.8 14.8 18.3 20.4 19.6 12.6 13.8 15.8\n",
            " 19.  17.1 16.6 19.6 18.6 18.  16.2 16.  18.  16.4 20.5 15.3 18.2 17.6\n",
            " 14.7 17.3 14.5 14.5 16.9 15.  15.7 16.2 16.4 17.  14.5 14.7 13.9 13.\n",
            " 17.3 15.6 24.6 11.6 18.6 19.4]\n",
            "\n",
            "Normalized Acceleration Array:\n",
            "[0.23809524 0.20833333 0.17857143 0.23809524 0.14880952 0.11904762\n",
            " 0.05952381 0.0297619  0.11904762 0.0297619  0.11904762 0.\n",
            " 0.08928571 0.11904762 0.41666667 0.44642857 0.44642857 0.47619048\n",
            " 0.38690476 0.74404762 0.56547619 0.38690476 0.56547619 0.26785714\n",
            " 0.41666667 0.35714286 0.41666667 0.32738095 0.625      0.38690476\n",
            " 0.44642857 0.35714286 0.6547619  0.29761905 0.44642857 0.44642857\n",
            " 0.44642857 0.44642857 0.23809524 0.20833333 0.32738095 0.29761905\n",
            " 0.20833333 0.23809524 0.23809524 0.32738095 0.6547619  0.41666667\n",
            " 0.38690476 0.35714286 0.35714286 0.68452381 0.38690476 0.6547619\n",
            " 0.5952381  0.6547619  0.74404762 0.44642857 0.53571429 0.92261905\n",
            " 0.68452381 0.50595238 0.23809524 0.23809524 0.32738095 0.29761905\n",
            " 0.20833333 0.17857143 0.32738095 0.32738095 0.26785714 0.32738095\n",
            " 0.26785714 0.35714286 0.47619048 0.35714286 0.38690476 0.5952381\n",
            " 0.68452381 0.5952381  0.47619048 0.53571429 0.38690476 0.41666667\n",
            " 0.50595238 0.29761905 0.20833333 0.29761905 0.38690476 0.26785714\n",
            " 0.20833333 0.23809524 0.29761905 0.38690476 0.17857143 0.17857143\n",
            " 0.17857143 0.50595238 0.5952381  0.47619048 0.50595238 0.47619048\n",
            " 0.77380952 0.35714286 0.26785714 0.29761905 0.26785714 0.41666667\n",
            " 0.6547619  0.68452381 0.50595238 0.32738095 0.625      0.35714286\n",
            " 0.44642857 0.29761905 0.08928571 0.68452381 0.44642857 0.35714286\n",
            " 0.44642857 0.17857143 0.35714286 0.32738095 0.17857143 0.50595238\n",
            " 0.53571429 0.47619048 0.53571429 0.6547619  0.50595238 0.77380952\n",
            " 0.53571429 0.53571429 0.5952381  0.50595238 0.35714286 0.38690476\n",
            " 0.32738095 0.47619048 0.44642857 0.50595238 0.44642857 0.38690476\n",
            " 0.50595238 0.6547619  0.38690476 0.44642857 0.35714286 0.41666667\n",
            " 0.44642857 0.47619048 0.47619048 0.47619048 0.77380952 0.68452381\n",
            " 0.20833333 0.35714286 0.38690476 0.32738095 0.77380952 0.625\n",
            " 0.6547619  0.6547619  0.41666667 0.32738095 0.23809524 0.47619048\n",
            " 0.53571429 0.47619048 0.625      0.32738095 0.50595238 0.53571429\n",
            " 0.38690476 0.35714286 0.53571429 0.41666667 0.53571429 0.38690476\n",
            " 0.32738095 0.56547619 0.44642857 0.5297619  0.41071429 0.57738095\n",
            " 0.43452381 0.29761905 0.29761905 0.35119048 0.28571429 0.44047619\n",
            " 0.38690476 0.57142857 0.57142857 0.8452381  0.83928571 0.36904762\n",
            " 0.55952381 0.57738095 0.77380952 0.48809524 0.58333333 0.25\n",
            " 0.53571429 0.5        0.33333333 0.45833333 0.30952381 0.82738095\n",
            " 0.44642857 0.51785714 0.24404762 0.23809524 0.41666667 0.35714286\n",
            " 0.625      0.4047619  0.63095238 0.44642857 0.52380952 0.26785714\n",
            " 0.6547619  0.33928571 0.41071429 0.5        0.5297619  0.57738095\n",
            " 0.6547619  0.18452381 0.20238095 0.25       0.38690476 0.38690476\n",
            " 0.47619048 0.60714286 0.46428571 0.53571429 0.4702381  0.5\n",
            " 0.36309524 0.38690476 0.28571429 0.32738095 0.80357143 0.38095238\n",
            " 0.67857143 0.63095238 0.5        0.44642857 0.30952381 0.28571429\n",
            " 0.66666667 0.60714286 0.46428571 0.44047619 0.54761905 0.54761905\n",
            " 0.46428571 0.51785714 0.63690476 0.42261905 0.30952381 0.32142857\n",
            " 0.19047619 0.33928571 0.50595238 0.36904762 0.39880952 0.38690476\n",
            " 0.4047619  0.51785714 0.57142857 0.41071429 0.4702381  0.33333333\n",
            " 0.45833333 0.46428571 0.41071429 0.51190476 0.44047619 0.60714286\n",
            " 0.55357143 0.60714286 0.51190476 0.44047619 0.32142857 0.30952381\n",
            " 0.42857143 0.41071429 0.375      0.41666667 0.29761905 0.35714286\n",
            " 0.42857143 0.38095238 0.41666667 0.7202381  0.55952381 1.\n",
            " 0.8452381  0.30952381 0.41071429 0.66666667 0.39880952 0.47619048\n",
            " 0.19642857 0.29166667 0.30952381 0.39880952 0.64285714 0.44642857\n",
            " 0.5        0.50595238 0.60119048 0.7202381  0.63690476 0.46428571\n",
            " 0.44642857 0.56547619 0.41666667 0.42857143 0.58928571 0.38095238\n",
            " 0.66666667 0.81547619 0.93452381 0.70833333 0.82142857 0.3452381\n",
            " 0.55357143 0.5952381  0.43452381 0.20238095 0.26785714 0.42261905\n",
            " 0.375      0.53571429 0.45833333 0.5        0.38095238 0.27380952\n",
            " 0.29166667 0.5297619  0.5        0.48214286 0.58333333 0.67857143\n",
            " 0.55357143 0.47619048 0.41071429 0.48809524 0.75595238 0.36904762\n",
            " 0.46428571 0.38095238 0.52380952 0.4047619  0.61309524 0.73809524\n",
            " 0.69047619 0.27380952 0.3452381  0.46428571 0.6547619  0.54166667\n",
            " 0.51190476 0.69047619 0.63095238 0.5952381  0.48809524 0.47619048\n",
            " 0.5952381  0.5        0.74404762 0.43452381 0.60714286 0.57142857\n",
            " 0.39880952 0.55357143 0.38690476 0.38690476 0.5297619  0.41666667\n",
            " 0.45833333 0.48809524 0.5        0.53571429 0.38690476 0.39880952\n",
            " 0.35119048 0.29761905 0.55357143 0.45238095 0.98809524 0.21428571\n",
            " 0.63095238 0.67857143]\n"
          ]
        }
      ]
    },
    {
      "cell_type": "markdown",
      "source": [
        "5. Broadcasting\n",
        "\n",
        "Increase all horsepower values by 10% and store the updated values in a new\n",
        "NumPy array. Handle missing data (if any) by replacing it with the mean of the\n",
        "column before applying the increase."
      ],
      "metadata": {
        "id": "esnm4mAX1y4a"
      }
    },
    {
      "cell_type": "code",
      "source": [
        "df['horsepower'] = pd.to_numeric(df['horsepower'], errors='coerce')\n",
        "df['horsepower'].fillna(df['horsepower'].mean(), inplace=True)\n",
        "\n",
        "# Convert to NumPy array\n",
        "horsepower_array = df['horsepower'].to_numpy()\n",
        "\n",
        "# Increase horsepower by 10%\n",
        "increased_horsepower = horsepower_array * 1.10\n",
        "\n",
        "print(\"Original Horsepower Array:\")\n",
        "print(horsepower_array)\n",
        "print(\"\\nIncreased Horsepower Array:\")\n",
        "print(increased_horsepower)"
      ],
      "metadata": {
        "colab": {
          "base_uri": "https://localhost:8080/"
        },
        "id": "i9lNxX3J15Ik",
        "outputId": "abafb2b4-8962-4eb3-9ff4-4420f7c910bf"
      },
      "execution_count": 14,
      "outputs": [
        {
          "output_type": "stream",
          "name": "stdout",
          "text": [
            "Original Horsepower Array:\n",
            "[130.         165.         150.         150.         140.\n",
            " 198.         220.         215.         225.         190.\n",
            " 170.         160.         150.         225.          95.\n",
            "  95.          97.          85.          88.          46.\n",
            "  87.          90.          95.         113.          90.\n",
            " 215.         200.         210.         193.          88.\n",
            "  90.          95.         104.46938776 100.         105.\n",
            " 100.          88.         100.         165.         175.\n",
            " 153.         150.         180.         170.         175.\n",
            " 110.          72.         100.          88.          86.\n",
            "  90.          70.          76.          65.          69.\n",
            "  60.          70.          95.          80.          54.\n",
            "  90.          86.         165.         175.         150.\n",
            " 153.         150.         208.         155.         160.\n",
            " 190.          97.         150.         130.         140.\n",
            " 150.         112.          76.          87.          69.\n",
            "  86.          92.          97.          80.          88.\n",
            " 175.         150.         145.         137.         150.\n",
            " 198.         150.         158.         150.         215.\n",
            " 225.         175.         105.         100.         100.\n",
            "  88.          95.          46.         150.         167.\n",
            " 170.         180.         100.          88.          72.\n",
            "  94.          90.          85.         107.          90.\n",
            " 145.         230.          49.          75.          91.\n",
            " 112.         150.         110.         122.         180.\n",
            "  95.         104.46938776 100.         100.          67.\n",
            "  80.          65.          75.         100.         110.\n",
            " 105.         140.         150.         150.         140.\n",
            " 150.          83.          67.          78.          52.\n",
            "  61.          75.          75.          75.          97.\n",
            "  93.          67.          95.         105.          72.\n",
            "  72.         170.         145.         150.         148.\n",
            " 110.         105.         110.          95.         110.\n",
            " 110.         129.          75.          83.         100.\n",
            "  78.          96.          71.          97.          97.\n",
            "  70.          90.          95.          88.          98.\n",
            " 115.          53.          86.          81.          92.\n",
            "  79.          83.         140.         150.         120.\n",
            " 152.         100.         105.          81.          90.\n",
            "  52.          60.          70.          53.         100.\n",
            "  78.         110.          95.          71.          70.\n",
            "  75.          72.         102.         150.          88.\n",
            " 108.         120.         180.         145.         130.\n",
            " 150.          68.          80.          58.          96.\n",
            "  70.         145.         110.         145.         130.\n",
            " 110.         105.         100.          98.         180.\n",
            " 170.         190.         149.          78.          88.\n",
            "  75.          89.          63.          83.          67.\n",
            "  78.          97.         110.         110.          48.\n",
            "  66.          52.          70.          60.         110.\n",
            " 140.         139.         105.          95.          85.\n",
            "  88.         100.          90.         105.          85.\n",
            " 110.         120.         145.         165.         139.\n",
            " 140.          68.          95.          97.          75.\n",
            "  95.         105.          85.          97.         103.\n",
            " 125.         115.         133.          71.          68.\n",
            " 115.          85.          88.          90.         110.\n",
            " 130.         129.         138.         135.         155.\n",
            " 142.         125.         150.          71.          65.\n",
            "  80.          80.          77.         125.          71.\n",
            "  90.          70.          70.          65.          69.\n",
            "  90.         115.         115.          90.          76.\n",
            "  60.          70.          65.          90.          88.\n",
            "  90.          90.          78.          90.          75.\n",
            "  92.          75.          65.         105.          65.\n",
            "  48.          48.          67.          67.          67.\n",
            " 104.46938776  67.          62.         132.         100.\n",
            "  88.         104.46938776  72.          84.          84.\n",
            "  92.         110.          84.          58.          64.\n",
            "  60.          67.          65.          62.          68.\n",
            "  63.          65.          65.          74.         104.46938776\n",
            "  75.          75.         100.          74.          80.\n",
            "  76.         116.         120.         110.         105.\n",
            "  88.          85.          88.          88.          88.\n",
            "  85.          84.          90.          92.         104.46938776\n",
            "  74.          68.          68.          63.          70.\n",
            "  88.          75.          70.          67.          67.\n",
            "  67.         110.          85.          92.         112.\n",
            "  96.          84.          90.          86.          52.\n",
            "  84.          79.          82.        ]\n",
            "\n",
            "Increased Horsepower Array:\n",
            "[143.         181.5        165.         165.         154.\n",
            " 217.8        242.         236.5        247.5        209.\n",
            " 187.         176.         165.         247.5        104.5\n",
            " 104.5        106.7         93.5         96.8         50.6\n",
            "  95.7         99.         104.5        124.3         99.\n",
            " 236.5        220.         231.         212.3         96.8\n",
            "  99.         104.5        114.91632653 110.         115.5\n",
            " 110.          96.8        110.         181.5        192.5\n",
            " 168.3        165.         198.         187.         192.5\n",
            " 121.          79.2        110.          96.8         94.6\n",
            "  99.          77.          83.6         71.5         75.9\n",
            "  66.          77.         104.5         88.          59.4\n",
            "  99.          94.6        181.5        192.5        165.\n",
            " 168.3        165.         228.8        170.5        176.\n",
            " 209.         106.7        165.         143.         154.\n",
            " 165.         123.2         83.6         95.7         75.9\n",
            "  94.6        101.2        106.7         88.          96.8\n",
            " 192.5        165.         159.5        150.7        165.\n",
            " 217.8        165.         173.8        165.         236.5\n",
            " 247.5        192.5        115.5        110.         110.\n",
            "  96.8        104.5         50.6        165.         183.7\n",
            " 187.         198.         110.          96.8         79.2\n",
            " 103.4         99.          93.5        117.7         99.\n",
            " 159.5        253.          53.9         82.5        100.1\n",
            " 123.2        165.         121.         134.2        198.\n",
            " 104.5        114.91632653 110.         110.          73.7\n",
            "  88.          71.5         82.5        110.         121.\n",
            " 115.5        154.         165.         165.         154.\n",
            " 165.          91.3         73.7         85.8         57.2\n",
            "  67.1         82.5         82.5         82.5        106.7\n",
            " 102.3         73.7        104.5        115.5         79.2\n",
            "  79.2        187.         159.5        165.         162.8\n",
            " 121.         115.5        121.         104.5        121.\n",
            " 121.         141.9         82.5         91.3        110.\n",
            "  85.8        105.6         78.1        106.7        106.7\n",
            "  77.          99.         104.5         96.8        107.8\n",
            " 126.5         58.3         94.6         89.1        101.2\n",
            "  86.9         91.3        154.         165.         132.\n",
            " 167.2        110.         115.5         89.1         99.\n",
            "  57.2         66.          77.          58.3        110.\n",
            "  85.8        121.         104.5         78.1         77.\n",
            "  82.5         79.2        112.2        165.          96.8\n",
            " 118.8        132.         198.         159.5        143.\n",
            " 165.          74.8         88.          63.8        105.6\n",
            "  77.         159.5        121.         159.5        143.\n",
            " 121.         115.5        110.         107.8        198.\n",
            " 187.         209.         163.9         85.8         96.8\n",
            "  82.5         97.9         69.3         91.3         73.7\n",
            "  85.8        106.7        121.         121.          52.8\n",
            "  72.6         57.2         77.          66.         121.\n",
            " 154.         152.9        115.5        104.5         93.5\n",
            "  96.8        110.          99.         115.5         93.5\n",
            " 121.         132.         159.5        181.5        152.9\n",
            " 154.          74.8        104.5        106.7         82.5\n",
            " 104.5        115.5         93.5        106.7        113.3\n",
            " 137.5        126.5        146.3         78.1         74.8\n",
            " 126.5         93.5         96.8         99.         121.\n",
            " 143.         141.9        151.8        148.5        170.5\n",
            " 156.2        137.5        165.          78.1         71.5\n",
            "  88.          88.          84.7        137.5         78.1\n",
            "  99.          77.          77.          71.5         75.9\n",
            "  99.         126.5        126.5         99.          83.6\n",
            "  66.          77.          71.5         99.          96.8\n",
            "  99.          99.          85.8         99.          82.5\n",
            " 101.2         82.5         71.5        115.5         71.5\n",
            "  52.8         52.8         73.7         73.7         73.7\n",
            " 114.91632653  73.7         68.2        145.2        110.\n",
            "  96.8        114.91632653  79.2         92.4         92.4\n",
            " 101.2        121.          92.4         63.8         70.4\n",
            "  66.          73.7         71.5         68.2         74.8\n",
            "  69.3         71.5         71.5         81.4        114.91632653\n",
            "  82.5         82.5        110.          81.4         88.\n",
            "  83.6        127.6        132.         121.         115.5\n",
            "  96.8         93.5         96.8         96.8         96.8\n",
            "  93.5         92.4         99.         101.2        114.91632653\n",
            "  81.4         74.8         74.8         69.3         77.\n",
            "  96.8         82.5         77.          73.7         73.7\n",
            "  73.7        121.          93.5        101.2        123.2\n",
            " 105.6         92.4         99.          94.6         57.2\n",
            "  92.4         86.9         90.2       ]\n"
          ]
        },
        {
          "output_type": "stream",
          "name": "stderr",
          "text": [
            "<ipython-input-14-c7eef0254c6a>:2: FutureWarning: A value is trying to be set on a copy of a DataFrame or Series through chained assignment using an inplace method.\n",
            "The behavior will change in pandas 3.0. This inplace method will never work because the intermediate object on which we are setting values always behaves as a copy.\n",
            "\n",
            "For example, when doing 'df[col].method(value, inplace=True)', try using 'df.method({col: value}, inplace=True)' or df[col] = df[col].method(value) instead, to perform the operation inplace on the original object.\n",
            "\n",
            "\n",
            "  df['horsepower'].fillna(df['horsepower'].mean(), inplace=True)\n"
          ]
        }
      ]
    },
    {
      "cell_type": "markdown",
      "source": [
        "6. Boolean Indexing\n",
        "Find the average displacement of cars with an origin of 2 (Europe) using NumPy\n",
        "indexing."
      ],
      "metadata": {
        "id": "KTjMx_sR2lb8"
      }
    },
    {
      "cell_type": "code",
      "source": [
        "origin_array = df['origin'].to_numpy()# Convert to NumPy arrays.\n",
        "displacement_array = df['displacement'].to_numpy()\n",
        "european_displacements = displacement_array[origin_array == 2]# Use boolean indexing to filter the displacement values.\n",
        "average_european_displacement = np.mean(european_displacements)# Calculate the average displacement.\n",
        "print(f\"Average displacement of European cars: {average_european_displacement}\")"
      ],
      "metadata": {
        "colab": {
          "base_uri": "https://localhost:8080/"
        },
        "id": "voAkJN3r21Mp",
        "outputId": "92c5710e-6ccd-4e9c-fd43-164c477eb668"
      },
      "execution_count": 15,
      "outputs": [
        {
          "output_type": "stream",
          "name": "stdout",
          "text": [
            "Average displacement of European cars: 109.14285714285714\n"
          ]
        }
      ]
    },
    {
      "cell_type": "markdown",
      "source": [
        "7. Matrix Operations\n",
        "Create a 2D NumPy array containing the columns mpg, horsepower, and weight.\n",
        "Compute the dot product of this matrix with a given vector [1, 0.5, -0.2]"
      ],
      "metadata": {
        "id": "wCKSXGOv3NCu"
      }
    },
    {
      "cell_type": "code",
      "source": [
        "df['horsepower'] = pd.to_numeric(df['horsepower'], errors='coerce')\n",
        "df['horsepower'] = df['horsepower'].fillna(df['horsepower'].mean())\n",
        "selected_columns = df[['mpg', 'horsepower', 'weight']].to_numpy()# Create the 2D NumPy array.\n",
        "vector = np.array([1, 0.5, -0.2])# Define the vector\n",
        "dot_product = np.dot(selected_columns, vector)# Compute the dot product\n",
        "\n",
        "print(\"2D NumPy Array:\")\n",
        "print(selected_columns)\n",
        "print(\"\\nVector:\")\n",
        "print(vector)\n",
        "print(\"\\nDot Product:\")\n",
        "print(dot_product)"
      ],
      "metadata": {
        "colab": {
          "base_uri": "https://localhost:8080/"
        },
        "id": "URAApVgi3SBj",
        "outputId": "29be29e3-67d3-4eda-9c6e-5ea91b4bbb3d"
      },
      "execution_count": 19,
      "outputs": [
        {
          "output_type": "stream",
          "name": "stdout",
          "text": [
            "2D NumPy Array:\n",
            "[[  18.  130. 3504.]\n",
            " [  15.  165. 3693.]\n",
            " [  18.  150. 3436.]\n",
            " ...\n",
            " [  32.   84. 2295.]\n",
            " [  28.   79. 2625.]\n",
            " [  31.   82. 2720.]]\n",
            "\n",
            "Vector:\n",
            "[ 1.   0.5 -0.2]\n",
            "\n",
            "Dot Product:\n",
            "[-617.8        -641.1        -594.2        -595.6        -602.8\n",
            " -754.2        -746.8        -740.9        -758.5        -660.\n",
            " -612.6        -627.8        -662.2        -490.7        -402.9\n",
            " -497.1        -488.3        -453.9        -355.         -318.\n",
            " -465.9        -417.         -402.5        -364.3        -463.6\n",
            " -805.5        -765.2        -760.4        -840.9        -355.\n",
            " -379.8        -373.1        -331.96530612 -457.8        -619.3\n",
            " -598.8        -597.4        -589.6        -745.3        -791.3\n",
            " -740.3        -730.2        -889.         -851.2        -927.5\n",
            " -519.4        -423.6        -587.4        -565.8        -378.\n",
            " -351.6        -349.8        -345.         -291.1        -253.1\n",
            " -309.8        -330.         -384.1        -360.2        -400.8\n",
            " -416.6        -381.2        -759.3        -775.5        -737.\n",
            " -735.3        -642.4        -811.6        -809.9        -799.2\n",
            " -776.4        -398.5        -688.4        -741.6        -775.8\n",
            " -726.4        -512.6        -442.2        -531.3        -377.3\n",
            " -414.         -383.6        -429.7        -364.8        -349.\n",
            " -719.5        -645.4        -712.1        -725.9        -665.4\n",
            " -879.4        -804.8        -780.6        -758.4        -826.5\n",
            " -865.7        -663.7        -553.7        -589.6        -521.\n",
            " -542.2        -510.3        -341.         -913.4        -885.7\n",
            " -832.8        -797.8        -489.8        -391.8        -423.2\n",
            " -406.8        -361.8        -400.5        -419.9        -382.\n",
            " -728.9        -724.6        -319.9        -370.1        -450.9\n",
            " -498.6        -589.8        -453.         -480.4        -631.8\n",
            " -552.9        -501.76530612 -511.2        -602.2        -325.5\n",
            " -424.2        -302.7        -445.9        -690.2        -655.4\n",
            " -652.1        -742.2        -851.8        -802.4        -843.6\n",
            " -762.4        -373.3        -333.1        -395.         -272.8\n",
            " -338.1        -359.5        -360.1        -385.7        -425.3\n",
            " -405.7        -335.5        -586.3        -621.3        -635.4\n",
            " -580.6        -832.6        -800.5        -808.6        -843.4\n",
            " -709.4        -710.9        -676.         -691.5        -531.8\n",
            " -569.2        -556.3        -367.7        -463.3        -512.8\n",
            " -456.4        -468.4        -384.1        -436.5        -530.3\n",
            " -323.4        -578.2        -468.3        -524.4        -518.\n",
            " -451.7        -299.5        -421.8        -378.5        -443.4\n",
            " -385.5        -371.9        -755.5        -747.         -716.9\n",
            " -752.5        -574.6        -596.1        -537.9        -549.5\n",
            " -352.         -378.3        -323.4        -299.5        -660.2\n",
            " -657.8        -655.5        -573.6        -300.         -331.\n",
            " -365.5        -450.5        -559.         -700.         -591.\n",
            " -513.         -687.5        -769.5        -725.5        -696.\n",
            " -663.         -343.5        -361.         -300.         -386.5\n",
            " -320.5        -686.         -740.         -740.         -779.\n",
            " -631.5        -612.         -657.         -637.5        -738.\n",
            " -732.5        -754.5        -776.5        -320.         -479.5\n",
            " -389.5        -481.         -348.2        -340.         -333.5\n",
            " -368.5        -492.5        -443.5        -467.5        -329.9\n",
            " -290.9        -338.2        -339.6        -293.9        -598.1\n",
            " -657.6        -624.3        -635.3        -563.         -530.3\n",
            " -474.9        -615.5        -577.6        -602.9        -550.7\n",
            " -650.4        -603.9        -593.3        -588.8        -553.4\n",
            " -728.5        -367.         -437.         -384.3        -377.6\n",
            " -434.4        -473.3        -504.7        -408.6        -494.2\n",
            " -548.5        -479.9        -599.3        -331.         -363.5\n",
            " -570.         -535.7        -511.7        -587.8        -596.4\n",
            " -686.         -662.9        -705.5        -680.3        -777.6\n",
            " -724.3        -639.3        -694.5        -317.6        -328.4\n",
            " -307.3        -466.6        -642.1        -694.5        -575.3\n",
            " -615.1        -370.8        -360.5        -339.7        -354.2\n",
            " -460.6        -432.7        -455.7        -432.7        -349.3\n",
            " -325.5        -356.9        -334.1        -462.6        -503.6\n",
            " -531.3        -612.1        -364.3        -467.4        -439.6\n",
            " -403.8        -383.3        -342.9        -479.6        -348.7\n",
            " -348.7        -399.6        -520.1        -586.5        -291.9\n",
            " -273.86530612 -361.7        -308.2        -483.3        -410.3\n",
            " -421.         -505.16530612 -389.6        -428.8        -458.4\n",
            " -452.2        -466.5        -405.         -282.9        -304.\n",
            " -286.9        -347.2        -325.5        -341.3        -328.9\n",
            " -376.8        -342.1        -413.6        -368.         -377.26530612\n",
            " -370.8        -400.1        -440.1        -458.4        -577.9\n",
            " -563.3        -496.6        -501.8        -605.6        -665.9\n",
            " -547.8        -632.9        -449.         -457.         -401.\n",
            " -441.5        -434.         -475.         -503.         -531.76530612\n",
            " -323.         -334.         -329.         -355.5        -354.\n",
            " -352.         -367.5        -380.         -321.5        -327.5\n",
            " -327.5        -509.         -522.5        -445.         -489.\n",
            " -453.         -396.         -518.         -488.         -356.\n",
            " -385.         -457.5        -472.        ]\n"
          ]
        }
      ]
    },
    {
      "cell_type": "markdown",
      "source": [
        "8. Sorting\n",
        "Use NumPy to sort the cars by model_year in descending order and display the first\n",
        "five car names."
      ],
      "metadata": {
        "id": "mZfkeGLq4E2_"
      }
    },
    {
      "cell_type": "code",
      "source": [
        "model_year_array = df['model year'].to_numpy()\n",
        "car_name_array = df['car name'].to_numpy()\n",
        "sorted_indices = np.argsort(model_year_array)[::-1]  #reverses the order\n",
        "sorted_car_names = car_name_array[sorted_indices]\n",
        "\n",
        "print(\"First five car names sorted by model_year (descending):\")\n",
        "print(sorted_car_names[:5])"
      ],
      "metadata": {
        "colab": {
          "base_uri": "https://localhost:8080/"
        },
        "id": "Kisa428R4LJs",
        "outputId": "9b08a8e3-1ed8-4b0c-cd36-b4b10ef35c29"
      },
      "execution_count": 22,
      "outputs": [
        {
          "output_type": "stream",
          "name": "stdout",
          "text": [
            "First five car names sorted by model_year (descending):\n",
            "['dodge aries se' 'pontiac phoenix' 'pontiac j2000 se hatchback'\n",
            " 'chevrolet cavalier 2-door' 'chevrolet cavalier wagon']\n"
          ]
        }
      ]
    },
    {
      "cell_type": "markdown",
      "source": [
        "9. Correlation\n",
        "Compute the Pearson correlation coefficient between mpg and weight using\n",
        "NumPy."
      ],
      "metadata": {
        "id": "KuyFPbW44iAL"
      }
    },
    {
      "cell_type": "code",
      "source": [
        "mpg_array = df['mpg'].to_numpy()\n",
        "weight_array = df['weight'].to_numpy()\n",
        "correlation_coefficient = np.corrcoef(mpg_array, weight_array)[0, 1]\n",
        "\n",
        "print(f\"Pearson Correlation Coefficient between MPG and Weight: {correlation_coefficient}\")"
      ],
      "metadata": {
        "colab": {
          "base_uri": "https://localhost:8080/"
        },
        "id": "sG7dtkjz4niZ",
        "outputId": "1cc1ced7-7c66-4428-fe16-f71a4b0efc48"
      },
      "execution_count": 23,
      "outputs": [
        {
          "output_type": "stream",
          "name": "stdout",
          "text": [
            "Pearson Correlation Coefficient between MPG and Weight: -0.8317409332443352\n"
          ]
        }
      ]
    },
    {
      "cell_type": "markdown",
      "source": [
        "10. Conditional Aggregates\n",
        "Calculate the mean mpg for cars grouped by the number of cylinders using NumPy\n",
        "techniques."
      ],
      "metadata": {
        "id": "lr7WaKPB4v1z"
      }
    },
    {
      "cell_type": "code",
      "source": [
        "cylinders_array = df['cylinders'].to_numpy()\n",
        "mpg_array = df['mpg'].to_numpy()\n",
        "unique_cylinders = np.unique(cylinders_array)\n",
        "\n",
        "mean_mpg_by_cylinders = {} #dictionary initialized\n",
        "for cylinder in unique_cylinders:\n",
        "    mean_mpg = np.mean(mpg_array[cylinders_array == cylinder])\n",
        "    mean_mpg_by_cylinders[cylinder] = mean_mpg\n",
        "\n",
        "print(\"Mean MPG by Cylinder:\")\n",
        "for cylinder, mean_mpg in mean_mpg_by_cylinders.items():\n",
        "    print(f\"Cylinders {cylinder}: Mean MPG = {mean_mpg}\")"
      ],
      "metadata": {
        "colab": {
          "base_uri": "https://localhost:8080/"
        },
        "id": "2N59ifIC4zc0",
        "outputId": "542fdaa1-baaf-4766-eef7-2f27a9fe5896"
      },
      "execution_count": 27,
      "outputs": [
        {
          "output_type": "stream",
          "name": "stdout",
          "text": [
            "Mean MPG by Cylinder:\n",
            "Cylinders 3: Mean MPG = 20.55\n",
            "Cylinders 4: Mean MPG = 29.28676470588235\n",
            "Cylinders 5: Mean MPG = 27.366666666666664\n",
            "Cylinders 6: Mean MPG = 19.985714285714284\n",
            "Cylinders 8: Mean MPG = 14.963106796116506\n"
          ]
        }
      ]
    }
  ]
}