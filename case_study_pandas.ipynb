{
  "nbformat": 4,
  "nbformat_minor": 0,
  "metadata": {
    "colab": {
      "provenance": [],
      "authorship_tag": "ABX9TyOv37V9iCuNFZWX0m5mA234",
      "include_colab_link": true
    },
    "kernelspec": {
      "name": "python3",
      "display_name": "Python 3"
    },
    "language_info": {
      "name": "python"
    }
  },
  "cells": [
    {
      "cell_type": "markdown",
      "metadata": {
        "id": "view-in-github",
        "colab_type": "text"
      },
      "source": [
        "<a href=\"https://colab.research.google.com/github/devikaajay/DSA-Case-study-on-numpy-pandas/blob/main/case_study_pandas.ipynb\" target=\"_parent\"><img src=\"https://colab.research.google.com/assets/colab-badge.svg\" alt=\"Open In Colab\"/></a>"
      ]
    },
    {
      "cell_type": "markdown",
      "source": [
        "1. Basic Exploration\n",
        "Load the dataset into a Pandas DataFrame. Display:\n",
        "○ The first 10 rows\n",
        "○ The total number of rows and columns\n",
        "○ Summary statistics for numerical columns"
      ],
      "metadata": {
        "id": "4fLDZYnS8cQn"
      }
    },
    {
      "cell_type": "code",
      "execution_count": 2,
      "metadata": {
        "colab": {
          "base_uri": "https://localhost:8080/"
        },
        "id": "P7nZ2C7Z8Y1n",
        "outputId": "1195f9ba-5ffd-44ab-be39-f70d67dd0607"
      },
      "outputs": [
        {
          "output_type": "stream",
          "name": "stdout",
          "text": [
            "First 10 rows:\n",
            "    mpg  cylinders  displacement horsepower  weight  acceleration  model year  \\\n",
            "0  18.0          8         307.0        130    3504          12.0          70   \n",
            "1  15.0          8         350.0        165    3693          11.5          70   \n",
            "2  18.0          8         318.0        150    3436          11.0          70   \n",
            "3  16.0          8         304.0        150    3433          12.0          70   \n",
            "4  17.0          8         302.0        140    3449          10.5          70   \n",
            "5  15.0          8         429.0        198    4341          10.0          70   \n",
            "6  14.0          8         454.0        220    4354           9.0          70   \n",
            "7  14.0          8         440.0        215    4312           8.5          70   \n",
            "8  14.0          8         455.0        225    4425          10.0          70   \n",
            "9  15.0          8         390.0        190    3850           8.5          70   \n",
            "\n",
            "   origin                   car name  \n",
            "0       1  chevrolet chevelle malibu  \n",
            "1       1          buick skylark 320  \n",
            "2       1         plymouth satellite  \n",
            "3       1              amc rebel sst  \n",
            "4       1                ford torino  \n",
            "5       1           ford galaxie 500  \n",
            "6       1           chevrolet impala  \n",
            "7       1          plymouth fury iii  \n",
            "8       1           pontiac catalina  \n",
            "9       1         amc ambassador dpl  \n",
            "\n",
            "Total rows: 398, Total columns: 9\n",
            "\n",
            "Summary statistics for numerical columns:\n",
            "              mpg   cylinders  displacement       weight  acceleration  \\\n",
            "count  398.000000  398.000000    398.000000   398.000000    398.000000   \n",
            "mean    23.514573    5.454774    193.425879  2970.424623     15.568090   \n",
            "std      7.815984    1.701004    104.269838   846.841774      2.757689   \n",
            "min      9.000000    3.000000     68.000000  1613.000000      8.000000   \n",
            "25%     17.500000    4.000000    104.250000  2223.750000     13.825000   \n",
            "50%     23.000000    4.000000    148.500000  2803.500000     15.500000   \n",
            "75%     29.000000    8.000000    262.000000  3608.000000     17.175000   \n",
            "max     46.600000    8.000000    455.000000  5140.000000     24.800000   \n",
            "\n",
            "       model year      origin  \n",
            "count  398.000000  398.000000  \n",
            "mean    76.010050    1.572864  \n",
            "std      3.697627    0.802055  \n",
            "min     70.000000    1.000000  \n",
            "25%     73.000000    1.000000  \n",
            "50%     76.000000    1.000000  \n",
            "75%     79.000000    2.000000  \n",
            "max     82.000000    3.000000  \n"
          ]
        }
      ],
      "source": [
        "import pandas as pd\n",
        "df = pd.read_csv('auto-mpg.csv')\n",
        "\n",
        "print(\"First 10 rows:\")\n",
        "print(df.head(10))\n",
        "\n",
        "num_rows, num_cols = df.shape\n",
        "print(f\"\\nTotal rows: {num_rows}, Total columns: {num_cols}\")\n",
        "\n",
        "print(\"\\nSummary statistics for numerical columns:\")\n",
        "print(df.describe())"
      ]
    },
    {
      "cell_type": "markdown",
      "source": [
        "2. Filtering and Indexing\n",
        "Find all cars manufactured in 1975 with a weight less than 3000. Return the\n",
        "DataFrame with selected columns: car_name, weight, and mpg."
      ],
      "metadata": {
        "id": "CwoyUAot9B0X"
      }
    },
    {
      "cell_type": "code",
      "source": [
        "filtered_cars = df[(df['model year'] == 75) & (df['weight'] < 3000)]\n",
        "selected_columns = filtered_cars[['car name', 'weight', 'mpg']]\n",
        "\n",
        "print(selected_columns)"
      ],
      "metadata": {
        "colab": {
          "base_uri": "https://localhost:8080/"
        },
        "id": "4A8FjRRm9F1e",
        "outputId": "686c2452-0e9b-43d0-d64b-bbcfb87edf98"
      },
      "execution_count": 7,
      "outputs": [
        {
          "output_type": "stream",
          "name": "stdout",
          "text": [
            "              car name  weight   mpg\n",
            "167     toyota corolla    2171  29.0\n",
            "168         ford pinto    2639  23.0\n",
            "169        amc gremlin    2914  20.0\n",
            "170      pontiac astro    2592  23.0\n",
            "171      toyota corona    2702  24.0\n",
            "172  volkswagen dasher    2223  25.0\n",
            "173         datsun 710    2545  24.0\n",
            "174         ford pinto    2984  18.0\n",
            "175  volkswagen rabbit    1937  29.0\n",
            "177         audi 100ls    2694  23.0\n",
            "178        peugeot 504    2957  23.0\n",
            "179        volvo 244dl    2945  22.0\n",
            "180          saab 99le    2671  25.0\n",
            "181   honda civic cvcc    1795  33.0\n"
          ]
        }
      ]
    },
    {
      "cell_type": "markdown",
      "source": [
        "3. Handling Missing Data\n",
        "Identify if there are any missing values in the dataset. Replace missing values in the\n",
        "horsepower column with the column's median."
      ],
      "metadata": {
        "id": "XG5DEa1p9d8p"
      }
    },
    {
      "cell_type": "code",
      "source": [
        "print(\"Missing values per column:\")\n",
        "print(df.isnull().sum())\n",
        "\n",
        "median_horsepower = df['horsepower'].median()\n",
        "df['horsepower'] = df['horsepower'].fillna(median_horsepower)\n",
        "\n",
        "print(\"\\nMissing values after handling:\")\n",
        "print(df.isnull().sum())"
      ],
      "metadata": {
        "colab": {
          "base_uri": "https://localhost:8080/"
        },
        "id": "8ltaC9mK9g6G",
        "outputId": "ccef9842-a9ed-4c68-e392-2e6bc0f81176"
      },
      "execution_count": 10,
      "outputs": [
        {
          "output_type": "stream",
          "name": "stdout",
          "text": [
            "Missing values per column:\n",
            "mpg             0\n",
            "cylinders       0\n",
            "displacement    0\n",
            "horsepower      0\n",
            "weight          0\n",
            "acceleration    0\n",
            "model year      0\n",
            "origin          0\n",
            "car name        0\n",
            "dtype: int64\n",
            "\n",
            "Missing values after handling:\n",
            "mpg             0\n",
            "cylinders       0\n",
            "displacement    0\n",
            "horsepower      0\n",
            "weight          0\n",
            "acceleration    0\n",
            "model year      0\n",
            "origin          0\n",
            "car name        0\n",
            "dtype: int64\n"
          ]
        }
      ]
    },
    {
      "cell_type": "markdown",
      "source": [
        "4. Data Transformation\n",
        "Add a new column power_to_weight_ratio, calculated as horsepower / weight."
      ],
      "metadata": {
        "id": "tk3hKyZt-G_e"
      }
    },
    {
      "cell_type": "code",
      "source": [
        "horsepower_median = df['horsepower'].median()\n",
        "df['horsepower'] = df['horsepower'].fillna(horsepower_median)\n",
        "df['power_to_weight_ratio'] = df['horsepower'] / df['weight']\n",
        "\n",
        "print(df)"
      ],
      "metadata": {
        "colab": {
          "base_uri": "https://localhost:8080/"
        },
        "id": "cDA5_8Ns-K-L",
        "outputId": "b6ec7796-8a84-4aad-9542-a35e891ba808"
      },
      "execution_count": 11,
      "outputs": [
        {
          "output_type": "stream",
          "name": "stdout",
          "text": [
            "      mpg  cylinders  displacement  horsepower  weight  acceleration  \\\n",
            "0    18.0          8         307.0       130.0    3504          12.0   \n",
            "1    15.0          8         350.0       165.0    3693          11.5   \n",
            "2    18.0          8         318.0       150.0    3436          11.0   \n",
            "3    16.0          8         304.0       150.0    3433          12.0   \n",
            "4    17.0          8         302.0       140.0    3449          10.5   \n",
            "..    ...        ...           ...         ...     ...           ...   \n",
            "393  27.0          4         140.0        86.0    2790          15.6   \n",
            "394  44.0          4          97.0        52.0    2130          24.6   \n",
            "395  32.0          4         135.0        84.0    2295          11.6   \n",
            "396  28.0          4         120.0        79.0    2625          18.6   \n",
            "397  31.0          4         119.0        82.0    2720          19.4   \n",
            "\n",
            "     model year  origin                   car name  power_to_weight_ratio  \n",
            "0            70       1  chevrolet chevelle malibu               0.037100  \n",
            "1            70       1          buick skylark 320               0.044679  \n",
            "2            70       1         plymouth satellite               0.043655  \n",
            "3            70       1              amc rebel sst               0.043694  \n",
            "4            70       1                ford torino               0.040591  \n",
            "..          ...     ...                        ...                    ...  \n",
            "393          82       1            ford mustang gl               0.030824  \n",
            "394          82       2                  vw pickup               0.024413  \n",
            "395          82       1              dodge rampage               0.036601  \n",
            "396          82       1                ford ranger               0.030095  \n",
            "397          82       1                 chevy s-10               0.030147  \n",
            "\n",
            "[398 rows x 10 columns]\n"
          ]
        }
      ]
    },
    {
      "cell_type": "markdown",
      "source": [
        "5. Group By\n",
        "Group the cars by origin and calculate the mean mpg for each group."
      ],
      "metadata": {
        "id": "-EEKuI8v-Tfy"
      }
    },
    {
      "cell_type": "code",
      "source": [
        "mean_mpg_by_origin = df.groupby('origin')['mpg'].mean()\n",
        "print(mean_mpg_by_origin)"
      ],
      "metadata": {
        "colab": {
          "base_uri": "https://localhost:8080/"
        },
        "id": "sZJ_w_Ws-Xn4",
        "outputId": "2a137376-117b-4f1e-90d4-8f9759dbef21"
      },
      "execution_count": 12,
      "outputs": [
        {
          "output_type": "stream",
          "name": "stdout",
          "text": [
            "origin\n",
            "1    20.083534\n",
            "2    27.891429\n",
            "3    30.450633\n",
            "Name: mpg, dtype: float64\n"
          ]
        }
      ]
    },
    {
      "cell_type": "markdown",
      "source": [
        "6. Sorting\n",
        "Sort the DataFrame by mpg in descending order and display the top 10 cars with\n",
        "the highest mpg.\n",
        "Apply Function\n",
        "Create a new column performance_score using a custom function:\n",
        "def performance_score(row):\n",
        "return row['mpg'] * row['acceleration'] / row['weight']"
      ],
      "metadata": {
        "id": "DqzHUb0l-nx-"
      }
    },
    {
      "cell_type": "code",
      "source": [
        "top_10_mpg = df.sort_values(by='mpg', ascending=False).head(10)\n",
        "print(\"Top 10 cars with highest MPG:\")\n",
        "print(top_10_mpg)\n",
        "\n",
        "def performance_score(row):\n",
        "    return row['mpg'] * row['acceleration'] / row['weight']\n",
        "\n",
        "df['performance_score'] = df.apply(performance_score, axis=1)\n",
        "\n",
        "print(\"\\nDataFrame with performance_score:\")\n",
        "print(df)"
      ],
      "metadata": {
        "colab": {
          "base_uri": "https://localhost:8080/"
        },
        "id": "vOUlt5Gl-ow1",
        "outputId": "70e5e381-4ce6-46b8-9528-523d41c36c04"
      },
      "execution_count": 13,
      "outputs": [
        {
          "output_type": "stream",
          "name": "stdout",
          "text": [
            "Top 10 cars with highest MPG:\n",
            "      mpg  cylinders  displacement  horsepower  weight  acceleration  \\\n",
            "322  46.6          4          86.0        65.0    2110          17.9   \n",
            "329  44.6          4          91.0        67.0    1850          13.8   \n",
            "325  44.3          4          90.0        48.0    2085          21.7   \n",
            "394  44.0          4          97.0        52.0    2130          24.6   \n",
            "326  43.4          4          90.0        48.0    2335          23.7   \n",
            "244  43.1          4          90.0        48.0    1985          21.5   \n",
            "309  41.5          4          98.0        76.0    2144          14.7   \n",
            "330  40.9          4          85.0        93.5    1835          17.3   \n",
            "324  40.8          4          85.0        65.0    2110          19.2   \n",
            "247  39.4          4          85.0        70.0    2070          18.6   \n",
            "\n",
            "     model year  origin                         car name  \\\n",
            "322          80       3                        mazda glc   \n",
            "329          80       3              honda civic 1500 gl   \n",
            "325          80       2             vw rabbit c (diesel)   \n",
            "394          82       2                        vw pickup   \n",
            "326          80       2               vw dasher (diesel)   \n",
            "244          78       2  volkswagen rabbit custom diesel   \n",
            "309          80       2                        vw rabbit   \n",
            "330          80       2             renault lecar deluxe   \n",
            "324          80       3                       datsun 210   \n",
            "247          78       3                   datsun b210 gx   \n",
            "\n",
            "     power_to_weight_ratio  \n",
            "322               0.030806  \n",
            "329               0.036216  \n",
            "325               0.023022  \n",
            "394               0.024413  \n",
            "326               0.020557  \n",
            "244               0.024181  \n",
            "309               0.035448  \n",
            "330               0.050954  \n",
            "324               0.030806  \n",
            "247               0.033816  \n",
            "\n",
            "DataFrame with performance_score:\n",
            "      mpg  cylinders  displacement  horsepower  weight  acceleration  \\\n",
            "0    18.0          8         307.0       130.0    3504          12.0   \n",
            "1    15.0          8         350.0       165.0    3693          11.5   \n",
            "2    18.0          8         318.0       150.0    3436          11.0   \n",
            "3    16.0          8         304.0       150.0    3433          12.0   \n",
            "4    17.0          8         302.0       140.0    3449          10.5   \n",
            "..    ...        ...           ...         ...     ...           ...   \n",
            "393  27.0          4         140.0        86.0    2790          15.6   \n",
            "394  44.0          4          97.0        52.0    2130          24.6   \n",
            "395  32.0          4         135.0        84.0    2295          11.6   \n",
            "396  28.0          4         120.0        79.0    2625          18.6   \n",
            "397  31.0          4         119.0        82.0    2720          19.4   \n",
            "\n",
            "     model year  origin                   car name  power_to_weight_ratio  \\\n",
            "0            70       1  chevrolet chevelle malibu               0.037100   \n",
            "1            70       1          buick skylark 320               0.044679   \n",
            "2            70       1         plymouth satellite               0.043655   \n",
            "3            70       1              amc rebel sst               0.043694   \n",
            "4            70       1                ford torino               0.040591   \n",
            "..          ...     ...                        ...                    ...   \n",
            "393          82       1            ford mustang gl               0.030824   \n",
            "394          82       2                  vw pickup               0.024413   \n",
            "395          82       1              dodge rampage               0.036601   \n",
            "396          82       1                ford ranger               0.030095   \n",
            "397          82       1                 chevy s-10               0.030147   \n",
            "\n",
            "     performance_score  \n",
            "0             0.061644  \n",
            "1             0.046710  \n",
            "2             0.057625  \n",
            "3             0.055928  \n",
            "4             0.051754  \n",
            "..                 ...  \n",
            "393           0.150968  \n",
            "394           0.508169  \n",
            "395           0.161743  \n",
            "396           0.198400  \n",
            "397           0.221103  \n",
            "\n",
            "[398 rows x 11 columns]\n"
          ]
        }
      ]
    },
    {
      "cell_type": "markdown",
      "source": [
        "7. Apply this function to each row and store the result in the new column."
      ],
      "metadata": {
        "id": "ITZ9hibF-1D0"
      }
    },
    {
      "cell_type": "code",
      "source": [
        "def performance_score(row):\n",
        "    return row['mpg'] * row['acceleration'] / row['weight']\n",
        "\n",
        "df['performance_score'] = df.apply(performance_score, axis=1)\n",
        "print(df)"
      ],
      "metadata": {
        "colab": {
          "base_uri": "https://localhost:8080/"
        },
        "id": "9zjT3BKT-7Ii",
        "outputId": "e9781e6f-0fca-494b-d0b8-0d99f7c402f6"
      },
      "execution_count": 14,
      "outputs": [
        {
          "output_type": "stream",
          "name": "stdout",
          "text": [
            "      mpg  cylinders  displacement  horsepower  weight  acceleration  \\\n",
            "0    18.0          8         307.0       130.0    3504          12.0   \n",
            "1    15.0          8         350.0       165.0    3693          11.5   \n",
            "2    18.0          8         318.0       150.0    3436          11.0   \n",
            "3    16.0          8         304.0       150.0    3433          12.0   \n",
            "4    17.0          8         302.0       140.0    3449          10.5   \n",
            "..    ...        ...           ...         ...     ...           ...   \n",
            "393  27.0          4         140.0        86.0    2790          15.6   \n",
            "394  44.0          4          97.0        52.0    2130          24.6   \n",
            "395  32.0          4         135.0        84.0    2295          11.6   \n",
            "396  28.0          4         120.0        79.0    2625          18.6   \n",
            "397  31.0          4         119.0        82.0    2720          19.4   \n",
            "\n",
            "     model year  origin                   car name  power_to_weight_ratio  \\\n",
            "0            70       1  chevrolet chevelle malibu               0.037100   \n",
            "1            70       1          buick skylark 320               0.044679   \n",
            "2            70       1         plymouth satellite               0.043655   \n",
            "3            70       1              amc rebel sst               0.043694   \n",
            "4            70       1                ford torino               0.040591   \n",
            "..          ...     ...                        ...                    ...   \n",
            "393          82       1            ford mustang gl               0.030824   \n",
            "394          82       2                  vw pickup               0.024413   \n",
            "395          82       1              dodge rampage               0.036601   \n",
            "396          82       1                ford ranger               0.030095   \n",
            "397          82       1                 chevy s-10               0.030147   \n",
            "\n",
            "     performance_score  \n",
            "0             0.061644  \n",
            "1             0.046710  \n",
            "2             0.057625  \n",
            "3             0.055928  \n",
            "4             0.051754  \n",
            "..                 ...  \n",
            "393           0.150968  \n",
            "394           0.508169  \n",
            "395           0.161743  \n",
            "396           0.198400  \n",
            "397           0.221103  \n",
            "\n",
            "[398 rows x 11 columns]\n"
          ]
        }
      ]
    },
    {
      "cell_type": "markdown",
      "source": [
        "8. Visualization Preparation\n",
        "Generate a summary DataFrame with:\n",
        "○ Average mpg, weight, and horsepower for each model_year"
      ],
      "metadata": {
        "id": "omcwmsmf_IKr"
      }
    },
    {
      "cell_type": "code",
      "source": [
        "df['horsepower'] = pd.to_numeric(df['horsepower'], errors='coerce')\n",
        "df['horsepower'] = df['horsepower'].fillna(df['horsepower'].mean())\n",
        "summary_df = df.groupby('model year')[['mpg', 'weight', 'horsepower']].mean()\n",
        "print(summary_df)"
      ],
      "metadata": {
        "colab": {
          "base_uri": "https://localhost:8080/"
        },
        "id": "Rva_HgCQ_I4L",
        "outputId": "cafcad01-a364-4717-91a4-9f8f929c2533"
      },
      "execution_count": 16,
      "outputs": [
        {
          "output_type": "stream",
          "name": "stdout",
          "text": [
            "                  mpg       weight  horsepower\n",
            "model year                                    \n",
            "70          17.689655  3372.793103  147.827586\n",
            "71          21.250000  2995.428571  106.553571\n",
            "72          18.714286  3237.714286  120.178571\n",
            "73          17.100000  3419.025000  130.475000\n",
            "74          22.703704  2877.925926   94.203704\n",
            "75          20.266667  3176.800000  101.066667\n",
            "76          21.573529  3078.735294  101.117647\n",
            "77          23.375000  2997.357143  105.071429\n",
            "78          24.061111  2861.805556   99.694444\n",
            "79          25.093103  3055.344828  101.206897\n",
            "80          33.696552  2436.655172   78.586207\n",
            "81          30.334483  2522.931034   81.465517\n",
            "82          31.709677  2453.548387   81.854839\n"
          ]
        }
      ]
    },
    {
      "cell_type": "markdown",
      "source": [
        "9. Exporting Data\n",
        "Save a subset of the data containing only mpg, cylinders, horsepower, and weight\n",
        "for cars with mpg > 30 into a CSV file named high_mpg_cars.csv."
      ],
      "metadata": {
        "id": "7VVvw5T6_Wxl"
      }
    },
    {
      "cell_type": "code",
      "source": [
        "df['horsepower'] = pd.to_numeric(df['horsepower'], errors='coerce')\n",
        "df['horsepower'] = df['horsepower'].fillna(df['horsepower'].mean())\n",
        "\n",
        "high_mpg_cars = df[df['mpg'] > 30]\n",
        "selected_columns = high_mpg_cars[['mpg', 'cylinders', 'horsepower', 'weight']]\n",
        "selected_columns.to_csv('high_mpg_cars.csv', index=False)  # index=False avoids writing row indices\n",
        "\n",
        "print(\"Subset saved to high_mpg_cars.csv\")"
      ],
      "metadata": {
        "colab": {
          "base_uri": "https://localhost:8080/"
        },
        "id": "E9YN1iiA_axz",
        "outputId": "ad530186-f2cf-422a-9da9-e231cb4a3b48"
      },
      "execution_count": 17,
      "outputs": [
        {
          "output_type": "stream",
          "name": "stdout",
          "text": [
            "Subset saved to high_mpg_cars.csv\n"
          ]
        }
      ]
    },
    {
      "cell_type": "markdown",
      "source": [
        "10. Finding Anomalies\n",
        "Identify potential outliers in the mpg column using the Interquartile Range (IQR)\n",
        "method. Specifically:\n",
        "● Calculate the IQR for mpg."
      ],
      "metadata": {
        "id": "HXJE3aOq_peT"
      }
    },
    {
      "cell_type": "code",
      "source": [
        "Q1 = df['mpg'].quantile(0.25)\n",
        "Q3 = df['mpg'].quantile(0.75)\n",
        "IQR = Q3 - Q1\n",
        "\n",
        "print(f\"IQR for mpg: {IQR}\")"
      ],
      "metadata": {
        "colab": {
          "base_uri": "https://localhost:8080/"
        },
        "id": "Dt0N3-Pc_qmF",
        "outputId": "77440ea9-2429-42b3-8008-a7c04152cbe9"
      },
      "execution_count": 19,
      "outputs": [
        {
          "output_type": "stream",
          "name": "stdout",
          "text": [
            "IQR for mpg: 11.5\n"
          ]
        }
      ]
    }
  ]
}